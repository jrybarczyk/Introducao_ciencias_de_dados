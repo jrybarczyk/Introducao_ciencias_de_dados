{
 "cells": [
  {
   "cell_type": "markdown",
   "metadata": {},
   "source": [
    "# <center> Trabalho 02: Regressão Linear </center>\n",
    "## <center> Usando a linguagem Python </center>\n",
    "## <center> Taxa de consumo de oxigênio </center>"
   ]
  },
  {
   "cell_type": "markdown",
   "metadata": {},
   "source": [
    "**Proposta**\n",
    "* Analisar o tempo gasto para correr 1.5 milhas (em minutos) e a taxa de consumo de oxigênio (militros por minuto) em um grupo de homens envolvidos em um curso de *fitness* na N.C. State University.\n",
    "* Avaliar se o modelo de regressão linear simples pode ser ajustado para as variáveis **tempo de corrida** e **taxa de consumo de oxigênio**"
   ]
  },
  {
   "cell_type": "markdown",
   "metadata": {},
   "source": [
    "**Objetivo**\n",
    "* Analisar e produzir um relatório contendo:\n",
    "    * Análise de Dispersão\n",
    "    * Análise de Distribuição\n",
    "    * Correlação Linear\n",
    "    * Teste de Normalidade\n",
    "    * Ajuste do Modelo Linear\n",
    "    * Previsão de Dados e Coeficiente de Determinação"
   ]
  },
  {
   "cell_type": "markdown",
   "metadata": {},
   "source": [
    "#### Leitura do Dataset"
   ]
  },
  {
   "cell_type": "markdown",
   "metadata": {},
   "source": [
    "O código abaixo realiza a leitura do arquivo com os dados referentes ao consumo de oxigênio. Para isso, será necessário utilizar o pacote ``pandas``  para a leitura dos dados. Esse pacote organiza os dados numa estrutura tabular."
   ]
  },
  {
   "cell_type": "code",
   "execution_count": 1,
   "metadata": {},
   "outputs": [
    {
     "data": {
      "text/html": [
       "<div>\n",
       "<style scoped>\n",
       "    .dataframe tbody tr th:only-of-type {\n",
       "        vertical-align: middle;\n",
       "    }\n",
       "\n",
       "    .dataframe tbody tr th {\n",
       "        vertical-align: top;\n",
       "    }\n",
       "\n",
       "    .dataframe thead th {\n",
       "        text-align: right;\n",
       "    }\n",
       "</style>\n",
       "<table border=\"1\" class=\"dataframe\">\n",
       "  <thead>\n",
       "    <tr style=\"text-align: right;\">\n",
       "      <th></th>\n",
       "      <th>tempo</th>\n",
       "      <th>oxigenio</th>\n",
       "    </tr>\n",
       "  </thead>\n",
       "  <tbody>\n",
       "    <tr>\n",
       "      <th>0</th>\n",
       "      <td>11.37</td>\n",
       "      <td>44.609</td>\n",
       "    </tr>\n",
       "    <tr>\n",
       "      <th>1</th>\n",
       "      <td>10.07</td>\n",
       "      <td>45.313</td>\n",
       "    </tr>\n",
       "    <tr>\n",
       "      <th>2</th>\n",
       "      <td>8.65</td>\n",
       "      <td>54.297</td>\n",
       "    </tr>\n",
       "    <tr>\n",
       "      <th>3</th>\n",
       "      <td>8.17</td>\n",
       "      <td>59.571</td>\n",
       "    </tr>\n",
       "    <tr>\n",
       "      <th>4</th>\n",
       "      <td>9.22</td>\n",
       "      <td>49.874</td>\n",
       "    </tr>\n",
       "  </tbody>\n",
       "</table>\n",
       "</div>"
      ],
      "text/plain": [
       "   tempo  oxigenio\n",
       "0  11.37    44.609\n",
       "1  10.07    45.313\n",
       "2   8.65    54.297\n",
       "3   8.17    59.571\n",
       "4   9.22    49.874"
      ]
     },
     "execution_count": 1,
     "metadata": {},
     "output_type": "execute_result"
    }
   ],
   "source": [
    "import pandas as pd\n",
    "oxygen = pd.read_table(\"./dataset/oxigenio.txt\",sep=\" \")\n",
    "oxygen.head(n = 5)"
   ]
  },
  {
   "cell_type": "markdown",
   "metadata": {},
   "source": [
    "#### Análise de Dispersão dos dados"
   ]
  },
  {
   "cell_type": "markdown",
   "metadata": {},
   "source": [
    "Para esta análise será construído um gráfico do consumo de oxigênio ( *eixo-y* ) por tempo de corrida ( *eixo-x* ). Para esta etapa é necessário o uso do pacote ``matplotlib``."
   ]
  },
  {
   "cell_type": "code",
   "execution_count": 3,
   "metadata": {},
   "outputs": [
    {
     "data": {
      "image/png": "[encoded data removed]",
      "text/plain": [
       "<matplotlib.figure.Figure at 0x7f8d71e74f98>"
      ]
     },
     "metadata": {},
     "output_type": "display_data"
    }
   ],
   "source": [
    "import matplotlib.pyplot as plt\n",
    "plt.rcParams['figure.figsize'] = [10,5]\n",
    "plt.plot(oxygen['tempo'],oxygen['oxigenio'],'ro')\n",
    "plt.xlabel('tempo de corrida')\n",
    "plt.ylabel('consumo de oxigenio')\n",
    "plt.show()"
   ]
  },
  {
   "cell_type": "markdown",
   "metadata": {},
   "source": [
    "Existe uma correlação negativa entre o tempo de corrida e o consumo de oxigênio. Por exemplo, quanto maior for o tempo de corrida menor será o consumo de oxigênio."
   ]
  },
  {
   "cell_type": "markdown",
   "metadata": {},
   "source": [
    "#### Análise de Distribuição - Histograma"
   ]
  },
  {
   "cell_type": "code",
   "execution_count": 4,
   "metadata": {},
   "outputs": [
    {
     "data": {
      "image/png": "[encoded data removed]",
      "text/plain": [
       "<matplotlib.figure.Figure at 0x7f8d6fb80208>"
      ]
     },
     "metadata": {},
     "output_type": "display_data"
    }
   ],
   "source": [
    "plt.rcParams['figure.figsize'] = [10,5]\n",
    "plt.hist(oxygen['oxigenio'],bins = 10, range = (30,70), align = 'mid', \n",
    "         color = 'red', edgecolor='black', linewidth=1.2)\n",
    "plt.xlabel('consumo de oxigenio')\n",
    "plt.ylabel('Frequência')\n",
    "plt.title(\"Histograma do Consumo de Oxigênio\")\n",
    "plt.show()"
   ]
  },
  {
   "cell_type": "markdown",
   "metadata": {},
   "source": [
    "#### Coeficiente de Correlação Linear"
   ]
  },
  {
   "cell_type": "markdown",
   "metadata": {},
   "source": [
    "Para o cálculo do coeficiente de correlação linear de Pearson é necessária a utilização do pacote ``scipy``."
   ]
  },
  {
   "cell_type": "code",
   "execution_count": 5,
   "metadata": {},
   "outputs": [
    {
     "name": "stdout",
     "output_type": "stream",
     "text": [
      "-0.86\n"
     ]
    }
   ],
   "source": [
    "from scipy.stats.stats import pearsonr\n",
    "coeficienteCorr = pearsonr(oxygen['tempo'], oxygen['oxigenio'])[0]\n",
    "print(round(coeficienteCorr,2))"
   ]
  },
  {
   "cell_type": "markdown",
   "metadata": {},
   "source": [
    "O coeficiente de correlação entre o tempo de corrida e o consumo de oxigênio é -0.86. Trata-se de um coeficiente negativo, ou seja, quando maior for o tempo de corrida menor será o consumo de oxigênio, também quanto maior for o consumo de oxigênio menor será o tempo de corrida. Outra informação é que temos uma ``forte correlação negativa`` entre as variáveis."
   ]
  },
  {
   "cell_type": "markdown",
   "metadata": {},
   "source": [
    "#### AJuste do Modelo de Regressão Linear Simples"
   ]
  },
  {
   "cell_type": "markdown",
   "metadata": {},
   "source": [
    "A nossa variável **explicativa** é o **tempo de corrida** e a variável **resposta** é o **consumo de oxigênio**. O modelo adotado para este problema é a regressão linear simples, que é dada pela seguinte equação:\n",
    "$$y = \\beta_0 + \\beta_1 x + \\epsilon$$\n",
    "onde $\\beta_0$ é uma constante que intercepta o eixo *y* (no caso o eixo do consumo de oxigênio) e $\\beta_1$ é o coeficiente angular da reta em relação a variável explicativa."
   ]
  },
  {
   "cell_type": "markdown",
   "metadata": {},
   "source": [
    "Para o ajuste de um modelo de regressão linear em Python é necessário utilizar a classe ``LinearRegression`` do pacote ``sklearn``."
   ]
  },
  {
   "cell_type": "code",
   "execution_count": 6,
   "metadata": {},
   "outputs": [
    {
     "name": "stdout",
     "output_type": "stream",
     "text": [
      "β₀: 82.4217726799\n",
      "β₁: -3.31055536178\n"
     ]
    }
   ],
   "source": [
    "from sklearn import datasets, linear_model\n",
    "linear_model_oxygen = linear_model.LinearRegression()\n",
    "explicativa = [[x] for x in oxygen['tempo'].values]\n",
    "resposta = [[y] for y in oxygen['oxigenio'].values]\n",
    "linear_model_oxygen.fit(explicativa, resposta)\n",
    "print('\\u03B2\\u2080:', linear_model_oxygen.intercept_[0])\n",
    "print('\\u03B2\\u2081:', linear_model_oxygen.coef_[0][0])"
   ]
  },
  {
   "cell_type": "markdown",
   "metadata": {},
   "source": [
    "A equação que temos como resposta é:\n",
    "$$\\text{Oxigênio} = 82.4 -3.3\\text{tempo} + \\epsilon$$"
   ]
  },
  {
   "cell_type": "markdown",
   "metadata": {},
   "source": [
    "#### Teste de Normalidade - Shapiro-Wilk"
   ]
  },
  {
   "cell_type": "markdown",
   "metadata": {},
   "source": [
    "Para testar a normalidade dos resíduos do modelo de regressão linear é necessário a aplicação do Teste de Shapiro-Wilk usando o pacote ``scipy``. Neste modelo, o resíduo ($e$) é a diferença entre o valor obtido experimentalmente para o consumo de oxigênio ($y$) e o valor predito de consumo de oxigênio ($\\hat{y}$). $$e = y - \\hat{y}$$"
   ]
  },
  {
   "cell_type": "code",
   "execution_count": 7,
   "metadata": {},
   "outputs": [
    {
     "data": {
      "text/plain": [
       "0.9931714534759521"
      ]
     },
     "execution_count": 7,
     "metadata": {},
     "output_type": "execute_result"
    }
   ],
   "source": [
    "from scipy import stats\n",
    "stats.shapiro(resposta - linear_model_oxygen.predict(explicativa))[1]"
   ]
  },
  {
   "cell_type": "markdown",
   "metadata": {},
   "source": [
    "A normalidade dos resíduos é confirmada pelo teste de normalidade, onde o p-valor obtido é 0.994 que é superior ao  p-valor de corte 0.05."
   ]
  },
  {
   "cell_type": "markdown",
   "metadata": {},
   "source": [
    "#### Previsão de Vendas"
   ]
  },
  {
   "cell_type": "markdown",
   "metadata": {},
   "source": [
    "No item **AJuste do Modelo de Regressão Linear Simples** obtivemos a equação resposta para o problema. Nesta etapa será realizada uma previsão de consumo de oxigênio para um tempo de corrida no valor de 12 minutos."
   ]
  },
  {
   "cell_type": "code",
   "execution_count": 8,
   "metadata": {},
   "outputs": [
    {
     "data": {
      "text/plain": [
       "array([[ 42.69510834]])"
      ]
     },
     "execution_count": 8,
     "metadata": {},
     "output_type": "execute_result"
    }
   ],
   "source": [
    "tempo = 12.0\n",
    "linear_model_oxygen.predict(tempo)"
   ]
  },
  {
   "cell_type": "markdown",
   "metadata": {},
   "source": [
    "#### Ajuste da reta pelo modelo linear"
   ]
  },
  {
   "cell_type": "code",
   "execution_count": 9,
   "metadata": {},
   "outputs": [
    {
     "data": {
      "image/png": "[encoded data removed]",
      "text/plain": [
       "<matplotlib.figure.Figure at 0x7f8d67db42e8>"
      ]
     },
     "metadata": {},
     "output_type": "display_data"
    }
   ],
   "source": [
    "plt.rcParams['figure.figsize'] = [10,5]\n",
    "plt.plot(oxygen['tempo'], oxygen['oxigenio'],'ro')\n",
    "predict_oxygen = linear_model_oxygen.predict(explicativa)\n",
    "plt.plot(oxygen['tempo'], predict_oxygen,color='blue', linewidth = 4)\n",
    "plt.xlabel('tempo de corrida')\n",
    "plt.ylabel('consumo de oxigênio')\n",
    "plt.show()"
   ]
  },
  {
   "cell_type": "markdown",
   "metadata": {},
   "source": [
    "##### Avaliação da Qualidade do Modelo"
   ]
  },
  {
   "cell_type": "markdown",
   "metadata": {},
   "source": [
    "O coeficiente de determinação R$^2$, reflete a qualidade do ajuste do modelo. O quanto o modelo consegue explicar o conjunto de dados."
   ]
  },
  {
   "cell_type": "code",
   "execution_count": 10,
   "metadata": {},
   "outputs": [
    {
     "data": {
      "text/plain": [
       "0.74338010224403228"
      ]
     },
     "execution_count": 10,
     "metadata": {},
     "output_type": "execute_result"
    }
   ],
   "source": [
    "linear_model_oxygen.score(explicativa,resposta)"
   ]
  },
  {
   "cell_type": "markdown",
   "metadata": {},
   "source": [
    "O modelo consegue explicar somente 74.3% dos dados observados, talvez fosse necessário incluir outras variáveis como indice de massa corpóreo, batimento cardíaco, grau de sedentarismo, etc."
   ]
  }
 ],
 "metadata": {
  "kernelspec": {
   "display_name": "Python 3",
   "language": "python",
   "name": "python3"
  },
  "language_info": {
   "codemirror_mode": {
    "name": "ipython",
    "version": 3
   },
   "file_extension": ".py",
   "mimetype": "text/x-python",
   "name": "python",
   "nbconvert_exporter": "python",
   "pygments_lexer": "ipython3",
   "version": "3.6.7"
  }
 },
 "nbformat": 4,
 "nbformat_minor": 2
}
