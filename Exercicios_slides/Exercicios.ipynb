{
 "cells": [
  {
   "cell_type": "markdown",
   "metadata": {},
   "source": [
    "# <center> Exercícios </center>\n",
    "## <center> dos Slides </center>"
   ]
  },
  {
   "cell_type": "markdown",
   "metadata": {},
   "source": [
    "# Exercício 01"
   ]
  },
  {
   "cell_type": "markdown",
   "metadata": {},
   "source": [
    "Definir o tipo dos seguintes atributos:\n",
    "* Número de palavras de um texto: Racional\n",
    "* Fotografia: Nominal\n",
    "* Número de RG: Nominal\n",
    "* Data de nascimento: Intervalar\n",
    "* Código de disciplina: Nominal\n",
    "* Posição em uma corrida: Ordinal\n",
    "* Expressão de um gene em um tecido: Racional\n",
    "* Sequência de aminoácidos: Nominal"
   ]
  },
  {
   "cell_type": "markdown",
   "metadata": {},
   "source": [
    "# Exercício 02"
   ]
  },
  {
   "cell_type": "markdown",
   "metadata": {},
   "source": [
    "Dado o conjunto de dados {2, 2, 3, 3, 4, 5, 80}, calcular:\n",
    "* Média\n",
    "* Mediana\n",
    "* Moda"
   ]
  },
  {
   "cell_type": "markdown",
   "metadata": {},
   "source": [
    "**Média**\n",
    "\n",
    "média = $\\frac{2+2+3+3+4+5+80}{7} \\approx 14.14$\n",
    "\n",
    "**Mediana**\n",
    "\n",
    "Para o cálculo da mediana é necessário organizar os dados em ordem crescente. Deve-se contar o número de itens no conjunto de dados, no caso temos 7 dados, logo a mediana é elemento central. Neste caso a mediana é 3.\n",
    "\n",
    "**Moda**\n",
    "\n",
    "A moda é o elemento com maior frequência no conjunto de dados. No conjunto informado temos duas modas, no caso, são os elementos 2 e 3."
   ]
  },
  {
   "cell_type": "markdown",
   "metadata": {},
   "source": [
    "# Exercício 03"
   ]
  },
  {
   "cell_type": "markdown",
   "metadata": {},
   "source": [
    "Dado o conjunto de dados {16, 25, 4, 18, 11, 13, 20, 8, 11, 9}, calcular:\n",
    "* Amplitude\n",
    "* Variância\n",
    "* Desvio Padrão"
   ]
  },
  {
   "cell_type": "markdown",
   "metadata": {},
   "source": [
    "**Amplitude**\n",
    "\n",
    "A amplitude é a diferença entre o elemento de maior valor e o elemento de menor valor.\n",
    "\n",
    "amplitude = 25 - 4 = 21\n",
    "\n",
    "\n",
    "**Variância**\n",
    "\n",
    "variância = $\\frac{1}{n - 1} \\sum^{n}_{i = 1}(x_i - \\bar{x})^2$\n",
    "\n",
    "variância = $\\frac{1}{9} \\sum^{10}_{i = 1}(x_i - \\bar{x})^2 \\approx 35.45$\n",
    "\n",
    "\n",
    "\n",
    "**Desvio Padrão**\n",
    "\n",
    "desvio padrão = $\\sqrt{\\frac{1}{n - 1} \\sum^{n}_{i = 1}(x_i - \\bar{x})^2}$\n",
    "\n",
    "desvio padrão = $\\sqrt{\\frac{1}{9} \\sum^{10}_{i = 1}(x_i - \\bar{x})^2} \\approx 5.95$"
   ]
  }
 ],
 "metadata": {
  "kernelspec": {
   "display_name": "R",
   "language": "R",
   "name": "ir"
  },
  "language_info": {
   "codemirror_mode": "r",
   "file_extension": ".r",
   "mimetype": "text/x-r-source",
   "name": "R",
   "pygments_lexer": "r",
   "version": "3.6.0"
  }
 },
 "nbformat": 4,
 "nbformat_minor": 2
}
